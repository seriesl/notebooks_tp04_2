{
 "cells": [
  {
   "cell_type": "markdown",
   "metadata": {},
   "source": [
    "# Equation de Nagumo\n",
    "\n",
    "On s'intéresse dans cette partie à la résolution de l'équation de Nagumo déjà étudiée dans les travaux pratiques précédents :\n",
    "\n",
    "\\begin{equation}\\label{eq:kpp}\n",
    "\\partial_t u - D\\,\\Delta u = k\\,u^2(1-u),\n",
    "\\end{equation}"
   ]
  },
  {
   "cell_type": "code",
   "execution_count": null,
   "metadata": {
    "scrolled": false
   },
   "outputs": [],
   "source": [
    "%%bash\n",
    "\n",
    "# define MR paramaters\n",
    "niv_min=3\n",
    "niv_max=9\n",
    "stencil=1\n",
    "threshold=1.e-3\n",
    "nsteps=3000\n",
    "tend=30.\n",
    "t_plot_ini=0.\n",
    "dt_plot=10.\n",
    "diff_coef=1.0\n",
    "\n",
    "# go to run directory of functions examples\n",
    "cd /home/jovyan/fortran/nagumo/run\n",
    "# edit input file\n",
    "cat > don_nagumo.dat <<- EOF\n",
    "$niv_min\n",
    "$niv_max\n",
    "$stencil\n",
    "$threshold\n",
    "$nsteps\n",
    "$tend\n",
    "$t_plot_ini\n",
    "$dt_plot\n",
    "$diff_coef\n",
    "EOF\n",
    "\n",
    "# launch MR program\n",
    "./mr_nagumo"
   ]
  },
  {
   "cell_type": "code",
   "execution_count": null,
   "metadata": {
    "hidePrompt": true,
    "scrolled": false
   },
   "outputs": [],
   "source": [
    "%cd -q /home/jovyan/fortran/nagumo/run\n",
    "\n",
    "import numpy as np\n",
    "\n",
    "from bokeh.io import push_notebook, show, output_notebook\n",
    "from bokeh.layouts import column\n",
    "from bokeh.plotting import figure\n",
    "output_notebook(hide_banner=True)\n",
    "\n",
    "t = 20.\n",
    "\n",
    "file_res = open(\"Champs_t{:03d}.dat\".format(int(t*100)), \"r\")\n",
    "\n",
    "fig_sol = figure(title=\"solution at t = {:4.2f}\".format(t), plot_height=300, plot_width=900)\n",
    "fig_lev = figure(title=\"level at t = {:4.2f}\".format(t), plot_height=300, plot_width=900)\n",
    "\n",
    "line = file_res.readline()\n",
    "line = file_res.readline()\n",
    "\n",
    "x = []\n",
    "f = []\n",
    "err=[]\n",
    "lev=[]\n",
    "for line in file_res:\n",
    "    lline = line.split()\n",
    "    x.append(float(lline[0]))\n",
    "    lev.append(float(lline[1]))\n",
    "    f.append(float(lline[3]))\n",
    "\n",
    "fig_sol.x(x, f)\n",
    "fig_lev.x(x, lev)\n",
    "\n",
    "show(column(fig_sol, fig_lev))"
   ]
  }
 ],
 "metadata": {
  "kernelspec": {
   "display_name": "Python 3",
   "language": "python",
   "name": "python3"
  },
  "language_info": {
   "codemirror_mode": {
    "name": "ipython",
    "version": 3
   },
   "file_extension": ".py",
   "mimetype": "text/x-python",
   "name": "python",
   "nbconvert_exporter": "python",
   "pygments_lexer": "ipython3",
   "version": "3.7.1"
  }
 },
 "nbformat": 4,
 "nbformat_minor": 2
}
