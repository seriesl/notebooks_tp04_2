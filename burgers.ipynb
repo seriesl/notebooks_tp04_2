{
 "cells": [
  {
   "cell_type": "markdown",
   "metadata": {},
   "source": [
    "# Equation de Burgers\n",
    "\n",
    "On s'intéresse à la solution $u(x,t)$ de l'équation de Burgers 1D :\n",
    "\n",
    "\\begin{equation}\n",
    "\\partial_t u - \\partial_x f(u) = 0 \\; \\text{avec} \\; f(u) = \\frac{1}{2} u^2 \\quad \\text{dans} \\; \\Omega \\\\\n",
    "\\end{equation}\n"
   ]
  },
  {
   "cell_type": "code",
   "execution_count": null,
   "metadata": {
    "scrolled": true
   },
   "outputs": [],
   "source": [
    "%%bash\n",
    "\n",
    "# define MR paramaters\n",
    "niv_min=1\n",
    "niv_max=8\n",
    "stencil=1\n",
    "threshold=1.e-3\n",
    "nsteps=1000\n",
    "tend=2.0\n",
    "t_plot_ini=0.\n",
    "dt_plot=0.1\n",
    "\n",
    "# go to run directory of Burgers examples\n",
    "cd /home/jovyan/fortran/burgers/run\n",
    "\n",
    "# edit input file\n",
    "cat > don_burgers.dat <<- EOF\n",
    "$niv_min\n",
    "$niv_max\n",
    "$stencil\n",
    "$threshold\n",
    "$nsteps\n",
    "$tend\n",
    "$t_plot_ini\n",
    "$dt_plot\n",
    "EOF\n",
    "\n",
    "# launch MR program\n",
    "export LD_LIBRARY_PATH=/srv/conda/lib:$LD_LIBRARY_PATH\n",
    "./mr_burgers"
   ]
  },
  {
   "cell_type": "code",
   "execution_count": null,
   "metadata": {
    "hidePrompt": true,
    "scrolled": false
   },
   "outputs": [],
   "source": [
    "%cd -q /home/jovyan/fortran/burgers/run\n",
    "\n",
    "import numpy as np\n",
    "\n",
    "from bokeh.io import push_notebook, show, output_notebook\n",
    "from bokeh.layouts import column\n",
    "from bokeh.plotting import figure\n",
    "output_notebook(hide_banner=True)\n",
    "\n",
    "t = 2.0\n",
    "\n",
    "file_res = open(\"Tree_t{:03d}.dat\".format(int(t*100)), \"r\")\n",
    "\n",
    "fig_sol = figure(title=\"reconstructed solution at t = {:4.2f}\".format(t), plot_height=300, plot_width=900)\n",
    "fig_lev = figure(title=\"level at t = {:4.2f}\".format(t), plot_height=300, plot_width=900)\n",
    "\n",
    "line = file_res.readline()\n",
    "line = file_res.readline()\n",
    "\n",
    "x = []\n",
    "f = []\n",
    "lev=[]\n",
    "for line in file_res:\n",
    "    lline = line.split()\n",
    "    x.append(float(lline[0]))\n",
    "    lev.append(float(lline[2]))\n",
    "    f.append(float(lline[3]))\n",
    "\n",
    "fig_sol.x(x, f)\n",
    "fig_lev.x(x, lev)\n",
    "\n",
    "show(column(fig_sol, fig_lev))"
   ]
  }
 ],
 "metadata": {
  "kernelspec": {
   "display_name": "Python 3",
   "language": "python",
   "name": "python3"
  },
  "language_info": {
   "codemirror_mode": {
    "name": "ipython",
    "version": 3
   },
   "file_extension": ".py",
   "mimetype": "text/x-python",
   "name": "python",
   "nbconvert_exporter": "python",
   "pygments_lexer": "ipython3",
   "version": "3.7.1"
  }
 },
 "nbformat": 4,
 "nbformat_minor": 2
}
